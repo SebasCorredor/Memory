{
 "cells": [
  {
   "cell_type": "markdown",
   "metadata": {},
   "source": [
    "## Agente basico : 1 inicio 1 agente(llm) 1 fin"
   ]
  },
  {
   "cell_type": "markdown",
   "metadata": {},
   "source": [
    "## Importaciones"
   ]
  },
  {
   "cell_type": "code",
   "execution_count": null,
   "metadata": {},
   "outputs": [],
   "source": [
    "from typing import TypedDict\n",
    "from typing import Annotated\n",
    "from langgraph.graph.message import add_messages\n",
    "from langgraph.graph import StateGraph,START,END\n",
    "from langgraph.checkpoint.memory import MemorySaver #Obtener el objeto en memoria\n",
    "from langgraph.prebuilt import ToolNode, tools_condition # Añadir un o mas tools\n",
    "from langchain_core.messages import HumanMessage"
   ]
  },
  {
   "cell_type": "code",
   "execution_count": null,
   "metadata": {},
   "outputs": [],
   "source": [
    "memory = MemorySaver() #Crear el objeto memory saver"
   ]
  },
  {
   "cell_type": "code",
   "execution_count": 60,
   "metadata": {},
   "outputs": [],
   "source": [
    "''' \n",
    "Definimos la tools, recomendable que siempre sean funciones y añadir documentacion a la funcion para\n",
    "darle contexto al LLM\n",
    "'''\n",
    "def sumar(a: int, b: int) -> int:\n",
    "    \"\"\"Suma dos enteros.\n",
    "    Args:\n",
    "        a: Primer entero\n",
    "        b: Segundo entero\n",
    "    \"\"\"\n",
    "    return a + b"
   ]
  },
  {
   "cell_type": "code",
   "execution_count": 61,
   "metadata": {},
   "outputs": [],
   "source": [
    "''' \n",
    "Definimos el estado de los datos que van a fluir por el grafo\n",
    "en este caso un diccionario con una clave llamada messages que \n",
    "contendra una lista de mensajes (que a su vez son diccionarios) con la forma \n",
    "\n",
    "\n",
    "state = {\n",
    "    \"messages\": [\n",
    "        {\n",
    "            \"role\": \"user\",\n",
    "            \"content\": \"Hola, ¿cómo estás?\"\n",
    "        },\n",
    "        {\n",
    "            \"role\": \"assistant\",\n",
    "            \"content\": \"Estoy bien, ¿en qué puedo ayudarte?\"\n",
    "        },\n",
    "        {\n",
    "            \"role\": \"user\",\n",
    "            \"content\": \"Explícame cómo funciona LangGraph\"\n",
    "        }\n",
    "    ]\n",
    "}\n",
    "\n",
    "''' \n",
    "\n",
    "class State(TypedDict):\n",
    "    messages: Annotated[list, add_messages]"
   ]
  },
  {
   "cell_type": "code",
   "execution_count": 62,
   "metadata": {},
   "outputs": [],
   "source": [
    "''' \n",
    "Cuando ejecutas esta línea:\n",
    "\n",
    "Creas un nuevo constructor de grafo (un objeto StateGraph)\n",
    "Le dices a este constructor que los datos que fluirán por el grafo tendrán la forma definida en la clase State\n",
    "El constructor ahora sabe que debe esperar un diccionario con una clave messages que contendrá una lista\n",
    "\n",
    "Es como preparar el lienzo antes de empezar a dibujar.\n",
    "'''\n",
    "\n",
    "graph_builder = StateGraph(State)"
   ]
  },
  {
   "cell_type": "code",
   "execution_count": 63,
   "metadata": {},
   "outputs": [],
   "source": [
    "''' \n",
    "Definimos una lista para las tools\n",
    "'''\n",
    "\n",
    "tools = [sumar]"
   ]
  },
  {
   "cell_type": "code",
   "execution_count": 64,
   "metadata": {},
   "outputs": [],
   "source": [
    "''' \n",
    "Definimos el LLM que vamos a usar en nuestro caso Gemini de VertexAI\n",
    "\n",
    "Aqui usamos langchain para definir el modelo que vamos a usar\n",
    "\n",
    "para cada LLM se importa de diferente manera en nuestro caso usamos ChatVertexAI\n",
    "\n",
    "from langchain_google_vertexai import ChatVertexAI\n",
    "\n",
    "''' \n",
    "from langchain_google_vertexai import ChatVertexAI\n",
    "llm = ChatVertexAI(model=\"gemini-2.0-flash-001\",temperature=0)\n",
    "\n",
    "\n",
    "''' \n",
    "Sobre escribimos el LLM para que use las tools\n",
    "'''\n",
    "\n",
    "llm = llm.bind_tools(tools)"
   ]
  },
  {
   "cell_type": "code",
   "execution_count": 65,
   "metadata": {},
   "outputs": [],
   "source": [
    "''' \n",
    "La línea def chatbot(state: State): está definiendo una función llamada \"chatbot\" que espera recibir un parámetro llamado \"state\".\n",
    "La parte state: State es una \"anotación de tipo\" en Python, y hace lo siguiente:\n",
    "\n",
    "state es el nombre del parámetro que recibirá la función\n",
    "Los dos puntos : indican que estamos especificando el tipo de este parámetro\n",
    "State (que definimos anteriormente como una TypedDict) indica que el parámetro debe tener la estructura especificada en la clase State\n",
    "\n",
    "Es como poner una etiqueta en una caja que dice: \"Esta función espera recibir una caja (state) que debe tener exactamente la forma descrita en el plano State\".\n",
    "\n",
    "'''\n",
    "\n",
    "def chatbot(state: State):\n",
    "    return {\"messages\": [llm.invoke(state[\"messages\"])]}"
   ]
  },
  {
   "cell_type": "code",
   "execution_count": 66,
   "metadata": {},
   "outputs": [
    {
     "data": {
      "text/plain": [
       "<langgraph.graph.state.StateGraph at 0x1f1af2a85c0>"
      ]
     },
     "execution_count": 66,
     "metadata": {},
     "output_type": "execute_result"
    }
   ],
   "source": [
    "'''\n",
    "Creamos nuestro primer todo (primer nuestro tercero de langgraph)\n",
    "START Y END vienen por defecto \n",
    "\n",
    "\"chatbot\" - Este es el nombre o etiqueta que le estás dando al nodo. \n",
    "Es como ponerle un cartel a una estación de trabajo para identificarla. \n",
    "Cuando quieras referirte a este nodo más adelante (por ejemplo, para conectarlo con otros), usarás este nombre.\n",
    "\n",
    "chatbot - Esta es la función que definiste anteriormente. Le estás diciendo al grafo: \n",
    "\"Cuando el flujo llegue a este nodo, ejecuta esta función\". Es la tarea específica que se realizará en esta estación.\n",
    "'''\n",
    "\n",
    "graph_builder.add_node(\"chatbot\", chatbot)\n",
    "\n",
    "''' \n",
    "Debemos crear una nodo adicional para desplegar las tools y adicional conectar ese nodo con el resto del grafo \n",
    "'''\n",
    "graph_builder.add_node(\"tools\",ToolNode(tools)) #Nodo de Tools\n"
   ]
  },
  {
   "cell_type": "code",
   "execution_count": 67,
   "metadata": {},
   "outputs": [
    {
     "data": {
      "text/plain": [
       "<langgraph.graph.state.StateGraph at 0x1f1af2a85c0>"
      ]
     },
     "execution_count": 67,
     "metadata": {},
     "output_type": "execute_result"
    }
   ],
   "source": [
    "''' \n",
    "START - Este es un nodo especial predefinido en LangGraph que representa el punto de inicio del flujo. Es como la puerta de entrada a tu diagrama.\n",
    "'chatbot' - Este es el nombre del nodo al que quieres conectar el inicio. Debe ser un nodo que ya hayas añadido con add_node().\n",
    "'''\n",
    "\n",
    "graph_builder.add_edge(START, \"chatbot\")\n",
    "\n",
    "'''\n",
    "Nodo especial de langgraph con el cual se puede manejar la condicion de content interna\n",
    "'''\n",
    "graph_builder.add_conditional_edges(\n",
    "    \"chatbot\",\n",
    "    tools_condition,\n",
    ")\n",
    "graph_builder.add_edge(\"tools\", \"chatbot\") # Conexion de nodo llm con tools\n",
    "graph_builder.add_edge(\"chatbot\", END)"
   ]
  },
  {
   "cell_type": "code",
   "execution_count": null,
   "metadata": {},
   "outputs": [],
   "source": [
    "''' \n",
    "La diferencia entre graph_builder y graph es importante:\n",
    "\n",
    "graph_builder es la herramienta de diseño (el plano)\n",
    "graph es el producto final listo para usar (la fábrica construida)\n",
    "'''\n",
    "\n",
    "graph = graph_builder.compile(checkpointer=memory) #Crear el checkpointer hacia memory"
   ]
  },
  {
   "cell_type": "code",
   "execution_count": 69,
   "metadata": {},
   "outputs": [
    {
     "data": {
      "text/plain": [
       "' \\nDe esta manera se maneja el contexto, para langraph dev no se usa esto la interfaz lo hace por si misma\\n'"
      ]
     },
     "execution_count": 69,
     "metadata": {},
     "output_type": "execute_result"
    }
   ],
   "source": [
    "''' \n",
    "De esta manera se maneja el contexto, para langraph dev no se usa esto la interfaz lo hace por si misma\n",
    "'''\n",
    "\n",
    "# result = graph.invoke(\n",
    "#                         {\"messages\": \n",
    "#                                     [\n",
    "#                                         {\"role\": \"user\", \"content\": \"Hola\"},\n",
    "#                                         {\"role\": \"assistant\", \"content\": \"¡Hola! ¿En qué puedo ayudarte hoy?\\n\"},\n",
    "#                                         {\"role\": \"user\", \"content\": \"Dime cuanto es 2 + 2\"},\n",
    "#                                         {\"role\": \"assistant\", \"content\": \"2 + 2 = 4\\n\"},\n",
    "#                                         {\"role\": \"user\", \"content\": \"Al resultado anterior sumale 8\"}\n",
    "                                    \n",
    "#                                     ]\n",
    "#                         }\n",
    "                    \n",
    "#                     )\n",
    "# result"
   ]
  },
  {
   "cell_type": "code",
   "execution_count": null,
   "metadata": {},
   "outputs": [
    {
     "name": "stdout",
     "output_type": "stream",
     "text": [
      "================================\u001b[1m Human Message \u001b[0m=================================\n",
      "\n",
      "Hola mi nombre es juan\n",
      "==================================\u001b[1m Ai Message \u001b[0m==================================\n",
      "\n",
      "Hola Juan, encantado de conocerte. ¿En qué puedo ayudarte hoy?\n",
      "================================\u001b[1m Human Message \u001b[0m=================================\n",
      "\n",
      "cuando es 2 +2 \n",
      "==================================\u001b[1m Ai Message \u001b[0m==================================\n",
      "Tool Calls:\n",
      "  sumar (a205f28d-923b-47c8-aba2-2a8da54414d8)\n",
      " Call ID: a205f28d-923b-47c8-aba2-2a8da54414d8\n",
      "  Args:\n",
      "    a: 2.0\n",
      "    b: 2.0\n",
      "=================================\u001b[1m Tool Message \u001b[0m=================================\n",
      "Name: sumar\n",
      "\n",
      "4\n",
      "==================================\u001b[1m Ai Message \u001b[0m==================================\n",
      "\n",
      "2 + 2 = 4\n",
      "================================\u001b[1m Human Message \u001b[0m=================================\n",
      "\n",
      "recuerdas mi nombre?\n",
      "==================================\u001b[1m Ai Message \u001b[0m==================================\n",
      "\n",
      "Sí, tu nombre es Juan.\n"
     ]
    }
   ],
   "source": [
    "config = {\"configurable\": {\"thread_id\": \"2\"}} #Debe ser unico para que se guarde el contexto de la conversacion\n",
    "input_message = HumanMessage(input(\"Mensaje\"))\n",
    "for event in graph.stream({\"messages\": [input_message]}, config, stream_mode=\"values\"):\n",
    "    event[\"messages\"][-1].pretty_print()\n",
    "\n",
    "\n",
    "input_message = HumanMessage(input(\"Mensaje\"))\n",
    "for event in graph.stream({\"messages\": [input_message]}, config, stream_mode=\"values\"):\n",
    "    event[\"messages\"][-1].pretty_print()\n",
    "\n",
    "\n",
    "input_message = HumanMessage(input(\"Mensaje\"))\n",
    "for event in graph.stream({\"messages\": [input_message]}, config, stream_mode=\"values\"):\n",
    "    event[\"messages\"][-1].pretty_print()"
   ]
  },
  {
   "cell_type": "markdown",
   "metadata": {},
   "source": [
    "Grafo de mi agente"
   ]
  },
  {
   "cell_type": "code",
   "execution_count": 74,
   "metadata": {},
   "outputs": [
    {
     "data": {
      "image/png": "[encoded data removed]",
      "text/plain": [
       "<IPython.core.display.Image object>"
      ]
     },
     "metadata": {},
     "output_type": "display_data"
    }
   ],
   "source": [
    "from IPython.display import Image, display\n",
    "\n",
    "try:\n",
    "    display(Image(graph.get_graph().draw_mermaid_png()))\n",
    "except Exception as e:\n",
    "    print(e)\n",
    "    pass"
   ]
  },
  {
   "cell_type": "code",
   "execution_count": 75,
   "metadata": {},
   "outputs": [
    {
     "name": "stdout",
     "output_type": "stream",
     "text": [
      "================================\u001b[1m Human Message \u001b[0m=================================\n",
      "\n",
      "Hola recuerdas mi nombre?\n",
      "==================================\u001b[1m Ai Message \u001b[0m==================================\n",
      "\n",
      "No tengo memoria. No recuerdo nombres.\n",
      "================================\u001b[1m Human Message \u001b[0m=================================\n",
      "\n",
      "no me hables tan seco\n",
      "==================================\u001b[1m Ai Message \u001b[0m==================================\n",
      "\n",
      "Entiendo. Intentaré ser más amigable. ¿Cómo puedo ayudarte hoy?\n",
      "================================\u001b[1m Human Message \u001b[0m=================================\n",
      "\n",
      "dime cuanto es 2 +2  \n",
      "==================================\u001b[1m Ai Message \u001b[0m==================================\n",
      "Tool Calls:\n",
      "  sumar (b9459217-3a07-4c37-a4be-5b93005eef09)\n",
      " Call ID: b9459217-3a07-4c37-a4be-5b93005eef09\n",
      "  Args:\n",
      "    a: 2.0\n",
      "    b: 2.0\n",
      "=================================\u001b[1m Tool Message \u001b[0m=================================\n",
      "Name: sumar\n",
      "\n",
      "4\n",
      "==================================\u001b[1m Ai Message \u001b[0m==================================\n",
      "\n",
      "El resultado de 2 + 2 es 4.\n"
     ]
    }
   ],
   "source": [
    "config = {\"configurable\": {\"thread_id\": \"3\"}} # \n",
    "input_message = HumanMessage(input(\"Mensaje\"))\n",
    "for event in graph.stream({\"messages\": [input_message]}, config, stream_mode=\"values\"):\n",
    "    event[\"messages\"][-1].pretty_print()\n",
    "\n",
    "\n",
    "input_message = HumanMessage(input(\"Mensaje\"))\n",
    "for event in graph.stream({\"messages\": [input_message]}, config, stream_mode=\"values\"):\n",
    "    event[\"messages\"][-1].pretty_print()\n",
    "\n",
    "\n",
    "input_message = HumanMessage(input(\"Mensaje\"))\n",
    "for event in graph.stream({\"messages\": [input_message]}, config, stream_mode=\"values\"):\n",
    "    event[\"messages\"][-1].pretty_print()"
   ]
  }
 ],
 "metadata": {
  "kernelspec": {
   "display_name": "Python 3",
   "language": "python",
   "name": "python3"
  },
  "language_info": {
   "codemirror_mode": {
    "name": "ipython",
    "version": 3
   },
   "file_extension": ".py",
   "mimetype": "text/x-python",
   "name": "python",
   "nbconvert_exporter": "python",
   "pygments_lexer": "ipython3",
   "version": "3.12.6"
  }
 },
 "nbformat": 4,
 "nbformat_minor": 2
}
